{
 "cells": [
  {
   "cell_type": "markdown",
   "metadata": {},
   "source": [
    "# Análisis Exploratorio de Datos\n",
    "\n",
    "EL Análisis Exploratorio de los Datos (EDA, Exploratory Data Analysis) es el proceso sistematico de examinar datos en un nivel de agregación. Incluye estadistica de resumen para características numéricas, conteos de frecuencia para características categóricas. Histogramas y gráficas de caja para ilustrar la distribución de los datos y gráficos de series de tiempo para mostrar su evolución.\n",
    "\n",
    "Un *corpus* o conjunto de datos de texto esta compuesto por noticionas, tuits, correos o servicios de llamadas. La exploración estadística del corpus tiene diferentes facetas. \n",
    "Algunos de los atributos de matadata de un corpus son incluidos, mientras que otros son calculados o derivados. atributos de tiempo, permiten entender la evolución del corpus. Si existen atributos relacionados con el autor, perimient analizarlos por grupo y compararlos con otros.\n",
    "\n",
    "El análisis estadístico del contenido esta basado en la frecuencia de las palabras y frases. "
   ]
  },
  {
   "cell_type": "code",
   "execution_count": 3,
   "metadata": {},
   "outputs": [],
   "source": [
    "import pandas as pd"
   ]
  },
  {
   "cell_type": "markdown",
   "metadata": {},
   "source": [
    "## UN General Debate dataset\n",
    "\n",
    "[Fuente](https://www.kaggle.com/datasets/unitednations/un-general-debates)"
   ]
  },
  {
   "cell_type": "code",
   "execution_count": null,
   "metadata": {},
   "outputs": [],
   "source": [
    "file = \"un-general-debates-blueprint.csv\"\n",
    "\n",
    "df = pd.read_csv(\"../datasets/\"+file)\n",
    "df.sample(2)"
   ]
  },
  {
   "cell_type": "markdown",
   "metadata": {},
   "source": [
    "Crear una columna llamada `length` a partir de la longitud de cada uno de los textos de la columna `text`.\n",
    "\n",
    "Para determinar la logitud se utiliza el método `str.len()` ([doc](https://pandas.pydata.org/docs/reference/api/pandas.Series.str.len.html)). Ejemplo: \n",
    "\n",
    "\n",
    "```python\n",
    "s = pd.Series(['dog', '', 5, {'foo' : 'bar'}, [2, 3, 5, 7], ('one', 'two', 'three')])\n",
    "s.str.len()\n",
    "```"
   ]
  },
  {
   "cell_type": "code",
   "execution_count": null,
   "metadata": {},
   "outputs": [],
   "source": [
    "#TODO"
   ]
  },
  {
   "cell_type": "markdown",
   "metadata": {},
   "source": [
    "# Calculo de resúmenes estadísticos por columna\n",
    "\n",
    "El método `describe()` sin parámetros genera cinco estadísticos de las variables numéricas ([doc](https://pandas.pydata.org/docs/reference/api/pandas.DataFrame.describe.html)).\n",
    "\n",
    "```python\n",
    "s = pd.Series([1, 2, 3])\n",
    "s.describe()\n",
    "```"
   ]
  },
  {
   "cell_type": "code",
   "execution_count": null,
   "metadata": {},
   "outputs": [],
   "source": [
    "#TODO"
   ]
  },
  {
   "cell_type": "markdown",
   "metadata": {},
   "source": [
    "Mostrar los estadísticos de las variables no numérica: `country` y `speaker`:\n",
    "\n",
    "El método `describe()` con el parámetro `include = O` genera cinco estadísticos de las variables no numéricas."
   ]
  },
  {
   "cell_type": "code",
   "execution_count": null,
   "metadata": {},
   "outputs": [],
   "source": [
    "#TODO"
   ]
  },
  {
   "cell_type": "markdown",
   "metadata": {},
   "source": [
    "¿De cuántos países y conferencistas tiene información el conjunto de datos UN General Debate?\n",
    "\n",
    "\n",
    "# Revisar datos faltantes\n",
    "\n",
    "El método `isna()` detecta los valores faltantes, por lo que retorna un valor booleano si el valor es un NA (valores None o `Numpy.NaN`). docs/reference/api/pandas.DataFrame.isna.html)\n",
    "\n",
    "```python\n",
    "df = pd.DataFrame(dict(age=[5, 6, np.nan],\n",
    "                       born=[pd.NaT, pd.Timestamp('1939-05-27'),\n",
    "                             pd.Timestamp('1940-04-25')],\n",
    "                       name=['Alfred', 'Batman', ''],\n",
    "                       toy=[None, 'Batmobile', 'Joker']))\n",
    "\n",
    "df.isna()\n",
    "```\n",
    "Resultado\n",
    "\n",
    "````text\n",
    "     age   born   name    toy\n",
    "0  False   True  False   True\n",
    "1  False  False  False  False\n",
    "2   True  False  False  False\n",
    "````\n",
    "A continuaión, calcular los el total de valores faltantes por columna. Tip: utilizar el método `sum()`."
   ]
  },
  {
   "cell_type": "code",
   "execution_count": null,
   "metadata": {},
   "outputs": [],
   "source": [
    "\n",
    "#TODO"
   ]
  },
  {
   "cell_type": "markdown",
   "metadata": {},
   "source": [
    "Después de revisar las columnas que contienen NaN, es necesario ¿qué hacer con esos casos? En particular vamos a considerar el análisis de los valores NaN de la columna `speaker`. ¿Qué se puede hacer con esos registros?\n"
   ]
  },
  {
   "cell_type": "markdown",
   "metadata": {},
   "source": [
    "El método `fillna()` permite llena los valores NA/NaN.\n",
    "\n",
    "````python\n",
    "df = pd.DataFrame([[np.nan, 2, np.nan, 0],\n",
    "                   [3, 4, np.nan, 1],\n",
    "                   [np.nan, np.nan, np.nan, np.nan],\n",
    "                   [np.nan, 3, np.nan, 4]],\n",
    "                  columns=list(\"ABCD\"))\n",
    "\n",
    "df.fillna(0)\n",
    "````\n",
    "Resultado\n",
    "\n",
    "````text\n",
    "     A    B    C    D\n",
    "0  0.0  2.0  0.0  0.0\n",
    "1  3.0  4.0  0.0  1.0\n",
    "2  0.0  0.0  0.0  0.0\n",
    "3  0.0  3.0  0.0  4.0\n",
    "````\n",
    "\n",
    "Recomendación: El parámetro `implace = True` modifica el DataFrame original directamente. Esto significa que los valores nulos se rellenan en el mismo DataFrame sin necesidad de asignarlo a una nueva variable. Sin embargo, al hacer esto, también se afectan todas las “vistas” o “referencias” al DataFrame original. Esto puede ser útil si deseas cambiar el DataFrame en su lugar y no necesitas una copia.\n",
    "\n",
    "Realizar la sustitución de los NA en la columna `speaker`con la palabra `unknow`."
   ]
  },
  {
   "cell_type": "code",
   "execution_count": null,
   "metadata": {},
   "outputs": [],
   "source": [
    "#TODO\n",
    "\n"
   ]
  },
  {
   "cell_type": "markdown",
   "metadata": {},
   "source": [
    "Ahora, vamos a analizar algún caso partícular de un `speaker`, para conocer cuantos registros estan asociados a un `speaker` utilizaremos el método `str.contains()`, para probar si un patron o regex esta incluido como una cadena de una `Serie` o `Index`.\n",
    "\n",
    "````python\n",
    "data = {\n",
    "    'nombre': ['Juan Pérez', 'Ana García', 'Carlos López', 'María Pérez', 'Pedro Gómez'],\n",
    "    'ciudad': ['Madrid', 'Barcelona', 'Valencia', 'Madrid', 'Sevilla']\n",
    "}\n",
    "\n",
    "df = pd.DataFrame(data)\n",
    "\n",
    "# Filtrar filas donde la columna 'nombre' contiene el apellido 'Pérez'\n",
    "resultado = df[df['nombre'].str.contains('Pérez')]\n",
    "\n",
    "print(resultado)\n",
    "````\n",
    "Resultado\n",
    "\n",
    "````text\n",
    "      nombre    ciudad\n",
    "0  Juan Pérez    Madrid\n",
    "3  María Pérez   Madrid\n",
    "````\n",
    "\n",
    "Buscar todos los registros donde la columna `speaker` contenga la cadena `Bush`. Mostrar solo la columna `speaker` y con un conteo de registros con `value_counts()`."
   ]
  },
  {
   "cell_type": "code",
   "execution_count": null,
   "metadata": {},
   "outputs": [],
   "source": [
    "df[df['_____'].str.contains('_____')]['______'].value_counts()"
   ]
  },
  {
   "cell_type": "markdown",
   "metadata": {},
   "source": [
    "# Representación grafica de la distribución de los valores\n",
    "\n",
    "## Gráfica de caja o Boxplot\n",
    "\n",
    "Un boxplot es útil para resumir la distribución de los datos, destacando valores mínimos, máximos, la mediana y posibles outliers.\n",
    "\n",
    "\n",
    "````python\n",
    "import matplotlib.pyplot as plt\n",
    "\n",
    "data = {\n",
    "    \"Categoría\": [\"A\", \"A\", \"A\", \"B\", \"B\", \"B\", \"C\", \"C\", \"C\"],\n",
    "    \"Valores\": [5, 7, 8, 6, 9, 10, 5, 8, 6]\n",
    "}\n",
    "df = pd.DataFrame(data)\n",
    "\n",
    "# Crear un boxplot utilizando pandas\n",
    "df.boxplot(column=\"Valores\", by=\"Categoría\", grid=False)\n",
    "\n",
    "# Agregar título y etiquetas\n",
    "plt.title(\"Boxplot por Categorías\")\n",
    "plt.suptitle(\"\")  # Elimina el título automático\n",
    "plt.xlabel(\"Categoría\")\n",
    "plt.ylabel(\"Valores\")\n",
    "\n",
    "# Mostrar el gráfico\n",
    "plt.show()\n",
    "````\n",
    "\n",
    "Crea una boxplot de la columna `length`"
   ]
  },
  {
   "cell_type": "code",
   "execution_count": null,
   "metadata": {},
   "outputs": [],
   "source": [
    "#TODO"
   ]
  },
  {
   "cell_type": "markdown",
   "metadata": {},
   "source": [
    "De acuerdo a el resultado obtenido en el boxplot:\n",
    "- ¿En que rango de longitud se encuentra el 50% de los datos?\n",
    "- ¿Donde esta la media de la longitud?\n",
    "- ¿En que lado se concentran los valores atípicos?\n",
    "- ¿Que distribución presentan los datos, left-skwed, rigth-skwed  o symmetric? "
   ]
  },
  {
   "cell_type": "markdown",
   "metadata": {},
   "source": [
    "## Gráfica de barras o barplot\n",
    "\n",
    "Un barplot (gráfico de barras) es una representación visual que utiliza barras para comparar diferentes categorías o grupos de datos de forma clara y efectiva. La longitud o altura de las barras es proporcional al valor que representan, lo que permite observar rápidamente diferencias y patrones.\n",
    "\n",
    "````python\n",
    "# Crear un DataFrame de ejemplo\n",
    "data = {\n",
    "    \"Valores\": [12, 15, 14, 10, 13, 11, 12, 16, 18, 19, 12, 11, 14, 17, 16]\n",
    "}\n",
    "df = pd.DataFrame(data)\n",
    "\n",
    "# Crear un histograma utilizando pandas\n",
    "df[\"Valores\"].plot.hist(bins=5, edgecolor=\"black\")\n",
    "\n",
    "# Agregar título y etiquetas\n",
    "plt.title(\"Histograma de Valores\")\n",
    "plt.xlabel(\"Rango de Valores\")\n",
    "plt.ylabel(\"Frecuencia\")\n",
    "\n",
    "# Mostrar el gráfico\n",
    "plt.show()\n",
    "````\n",
    "\n",
    "Crear un histograma de la columna `length`\n"
   ]
  },
  {
   "cell_type": "code",
   "execution_count": null,
   "metadata": {},
   "outputs": [],
   "source": [
    "#TODO"
   ]
  },
  {
   "cell_type": "markdown",
   "metadata": {},
   "source": [
    "- A diferencia del boxplor anterior ¿Cuáles son los resultados que puedes inferir, de acuerdo a las preguntas realizadas?, ¿Se puede responder las mismas preguntas?, ¿Qué otras observaciones puedes concluir?"
   ]
  },
  {
   "cell_type": "markdown",
   "metadata": {},
   "source": [
    "# Comparación de valores de distribución sobre categorías\n",
    "\n",
    "__Seaborn__ es una biblioteca de visualización de datos basada en Matplotlib que proporciona una interfaz de alto nivel para crear gráficos estadísticos de manera sencilla y con estilos preconfigurados. Está diseñada para trabajar de manera efectiva con estructuras de datos como DataFrames de pandas, lo que facilita la exploración y representación visual de datos en proyectos de análisis."
   ]
  },
  {
   "cell_type": "markdown",
   "metadata": {},
   "source": [
    "## isin\n",
    "\n",
    "El método `isin` en pandas se utiliza para filtrar filas en un `DataFrame` o `Series` que contienen valores específicos de una lista, conjunto u otro iterable. Es especialmente útil para realizar búsquedas rápidas o verificaciones de pertenencia en un conjunto de datos.\n",
    "\n",
    "````python\n",
    "data = {\n",
    "    \"Nombre\": [\"Ana\", \"Luis\", \"Carlos\", \"María\", \"Pedro\"],\n",
    "    \"Edad\": [23, 34, 22, 28, 35],\n",
    "    \"Ciudad\": [\"Madrid\", \"Barcelona\", \"Madrid\", \"Sevilla\", \"Barcelona\"]\n",
    "}\n",
    "df = pd.DataFrame(data)\n",
    "\n",
    "# Filtrar filas donde la Ciudad sea \"Madrid\" o \"Barcelona\"\n",
    "ciudades_deseadas = [\"Madrid\", \"Barcelona\"]\n",
    "filtro = df[df[\"Ciudad\"].isin(ciudades_deseadas)]\n",
    "\n",
    "print(filtro)\n",
    "````"
   ]
  },
  {
   "cell_type": "markdown",
   "metadata": {},
   "source": [
    "Realizar un filtro de la columna `country`, donde el país sea: 'USA', 'FRA', 'BGR', 'CHN' y 'RUS'"
   ]
  },
  {
   "cell_type": "code",
   "execution_count": null,
   "metadata": {},
   "outputs": [],
   "source": [
    "#TODO\n",
    "where = _____"
   ]
  },
  {
   "cell_type": "markdown",
   "metadata": {},
   "source": [
    "El método `catplot` en Seaborn se utiliza para crear gráficos categóricos, lo que permite visualizar datos categóricos y sus relaciones con variables numéricas o categóricas adicionales. Es altamente versátil y puede generar varios tipos de gráficos categóricos, como gráficos de barras, gráficos de puntos, gráficos de cajas, etc.\n",
    "\n",
    "````python\n",
    "import seaborn as sns\n",
    "import matplotlib.pyplot as plt\n",
    "\n",
    "# Cargar un conjunto de datos de ejemplo\n",
    "tips = sns.load_dataset(\"tips\")\n",
    "\n",
    "# Crear un catplot`para mostrar la relación entre el día de la semana y las propinas\n",
    "sns.catplot(data=tips, x=\"day\", y=\"tip\", kind=\"box\", hue=\"sex\")\n",
    "\n",
    "# Configurar el título y mostrar el gráfico\n",
    "plt.title(\"Distribución de propinas por día y sexo\")\n",
    "plt.show()\n",
    "````\n",
    "\n",
    "Crear un `catplot` del resultado obtenido en `where`."
   ]
  },
  {
   "cell_type": "code",
   "execution_count": null,
   "metadata": {},
   "outputs": [],
   "source": [
    "#TODO"
   ]
  },
  {
   "cell_type": "markdown",
   "metadata": {},
   "source": [
    "Una variación de `catplot` son los gráficos de violín\n",
    "\n",
    "````python\n",
    "sns.catplot(data=tips, x=\"day\", y=\"tip\", kind=\"violin\", hue=\"sex\", split=True)\n",
    "plt.title(\"Distribución de propinas por día y sexo\")\n",
    "plt.show()\n",
    "````\n",
    "\n",
    "Crear un gráfico de violín para los resultados filtrados de `where`."
   ]
  },
  {
   "cell_type": "code",
   "execution_count": null,
   "metadata": {},
   "outputs": [],
   "source": [
    "#TODO"
   ]
  },
  {
   "cell_type": "markdown",
   "metadata": {},
   "source": [
    "# Visualización de desarrollo sobre el tiempo \n",
    "\n",
    "En algunos casos, alguna de las columnas (características) de nuestro conjunto de datos, permitirá un análisis en un periodo de tiempo. En nuestro caso columna `year` permite realizar una visualización del desarrollo de las longitudes de los discursos cada año. \n",
    "\n",
    "Para este análisis, utilizaremos el método `groupby` del dataframe permite grupar y realizar operaciones agregadas sobre datos. Es decir, permite dividir un conjunto de datos en grupos basados en valores de una o más columnas y luego aplicar funciones como suma, promedio, conteo, etc., a cada grupo.\n",
    "\n",
    "````python\n",
    "import pandas as pd\n",
    "\n",
    "# Crear un DataFrame de ejemplo\n",
    "data = {\n",
    "    \"Ciudad\": [\"Madrid\", \"Barcelona\", \"Madrid\", \"Sevilla\", \"Barcelona\", \"Sevilla\"],\n",
    "    \"Ventas\": [200, 300, 150, 400, 500, 300]\n",
    "}\n",
    "df = pd.DataFrame(data)\n",
    "\n",
    "# Agrupar por \"Ciudad\" y sumar las \"Ventas\"\n",
    "resultado = df.groupby(\"Ciudad\")[\"Ventas\"].sum()\n",
    "print(resultado)\n",
    "````\n",
    "\n",
    "Por ejemplo, al aplicar `groupby` a la columna `year` y mediante la agregación `size()`  se puede generar una visualización qué muestre cuántos discursos fueron pronunciados por año:"
   ]
  },
  {
   "cell_type": "code",
   "execution_count": null,
   "metadata": {},
   "outputs": [],
   "source": [
    "df.groupby('year').size().plot(title=\"Number of countries\")"
   ]
  },
  {
   "cell_type": "markdown",
   "metadata": {},
   "source": [
    "Algunas de las funciones de agregación comunes a utilizar con `groupby` son:\n",
    "\n",
    "- Suma (sum)\n",
    "- Promedio (mean)\n",
    "- Máximo (max)\n",
    "- Mínimo (min)\n",
    "- Conteo (count)\n",
    "- Desviación estándar (std)\n",
    "\n",
    "En el siguiente ejemplo: Las ventas se agrupan por ciudad y se calcula la suma total de ventas para cada ciudad.\n",
    "\n",
    "````python\n",
    "# Crear un DataFrame de ejemplo\n",
    "data = {\n",
    "    \"Ciudad\": [\"Madrid\", \"Barcelona\", \"Madrid\", \"Sevilla\", \"Barcelona\", \"Sevilla\"],\n",
    "    \"Producto\": [\"A\", \"A\", \"B\", \"A\", \"B\", \"B\"],\n",
    "    \"Ventas\": [200, 300, 150, 400, 500, 300]\n",
    "}\n",
    "df = pd.DataFrame(data)\n",
    "\n",
    "# Agrupar por \"Ciudad\" y \"Producto\", y calcular la suma de \"Ventas\"\n",
    "resultado = df.groupby([\"Ciudad\", \"Producto\"])[\"Ventas\"].sum()\n",
    "print(resultado)\n",
    "````\n",
    "\n",
    "También es posible aplicar múltiples funciones:\n",
    "\n",
    "````python\n",
    "# Aplicar varias funciones estadísticas\n",
    "resultado = df.groupby(\"Ciudad\")[\"Ventas\"].agg([\"sum\", \"mean\", \"count\"])\n",
    "print(resultado)\n",
    "````\n",
    "\n",
    "Ejercicio: \n",
    "\n",
    "- Agrupar los registros por año (`year`) y aplicar la función de agregación `mean` a la columna `lenght`. \n",
    "- A continuación, graficar el resultado con `plot` con la finalidad de visualizar el promedio del la longitud de los discursos por año."
   ]
  },
  {
   "cell_type": "code",
   "execution_count": null,
   "metadata": {},
   "outputs": [],
   "source": [
    "#TODO"
   ]
  },
  {
   "cell_type": "markdown",
   "metadata": {},
   "source": []
  }
 ],
 "metadata": {
  "kernelspec": {
   "display_name": "mcd-projectsI2025a",
   "language": "python",
   "name": "python3"
  },
  "language_info": {
   "codemirror_mode": {
    "name": "ipython",
    "version": 3
   },
   "file_extension": ".py",
   "mimetype": "text/x-python",
   "name": "python",
   "nbconvert_exporter": "python",
   "pygments_lexer": "ipython3",
   "version": "3.13.0"
  }
 },
 "nbformat": 4,
 "nbformat_minor": 2
}
