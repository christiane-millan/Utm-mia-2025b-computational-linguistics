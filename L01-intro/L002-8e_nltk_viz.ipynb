{
 "cells": [
  {
   "cell_type": "markdown",
   "metadata": {},
   "source": [
    "Ejercicio: NLTK Distribución de Frecuencias y Visualizaciones\n",
    "\n",
    "__Objetivos__\n",
    "\n",
    "- Aprender a realizar análisis estadístico de datos no estructurados utilizando FreqDist\n",
    "- Utilizar seaborn para visualizar los análisis estadísticos que visualicemos\n",
    "\n",
    "__Desarrollo__\n",
    "\n",
    "Utilizar el objeto `FreqDis` para hacer análisis estadístico de las mismas evaluaciones que has utilizado en los últimos ejercicios. Intercalar análisis numérico con visualizaciones realizadas con `seaborn` y `matplotlib` para hacer más claros los hallazgos.\n",
    "\n",
    "Realizar lo siguiente:\n",
    "\n",
    "1. Tokenizar las evaluaciones y crear una sola lista que contenga todas las palabras en nuestro conjunto de datos.\n",
    "2. Utilizar el objeto `stopwords` encontrado en la librería `nltk.corpus` para filtrar todas las palabras vacías de tu conjunto de datos y solamente tener palabras relevantes.\n",
    "3. Crear un objeto `Text` con tu dataset resultante.\n",
    "4. Crear también un objeto `FreqDist` con el mismo dataset.\n",
    "5. Obtener las 20 palabras más comunes en el dataset y realizar una gráfica de barras 'verticales' para visualizar su frecuencia.\n",
    "6. Obtener las 50 palabras más comunes en el dataset y realiza una gráfica de barras 'horizontales' para visualizar su frecuencia.\n",
    "7. Obtener los 20 bigramas más frecuentes en el dataset y realiza una gráfica de barras 'verticales' para visualizar tu frecuencia.\n",
    "8. Obter una lista de las palabras que tengan 10 o más caracteres que aparezcan por lo menos 7 veces en el dataset.\n",
    "9. Realizar un histograma del número de palabras contenidas en cada evaluación.\n",
    "10. Generar una nube de palabras con tu dataset."
   ]
  },
  {
   "cell_type": "code",
   "execution_count": null,
   "metadata": {},
   "outputs": [],
   "source": []
  }
 ],
 "metadata": {
  "language_info": {
   "name": "python"
  }
 },
 "nbformat": 4,
 "nbformat_minor": 2
}
