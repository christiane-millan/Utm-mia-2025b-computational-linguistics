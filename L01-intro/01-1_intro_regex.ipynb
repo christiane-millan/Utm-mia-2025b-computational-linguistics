{
 "cells": [
  {
   "cell_type": "markdown",
   "metadata": {},
   "source": [
    "# Expresiones regulares\n",
    "\n",
    "## Buscar y reemplazar\n",
    "\n",
    "Un ejemplo común del uso de expresiones regulares (regex) es buscar y reemplazar. Por ejemplo, los editores de palabras como Microsoft Word incorporan esta característica. \n",
    "\n",
    "Existen algunas limitaciones de *buscar y reemplazar*.\n",
    "\n",
    "```text\n",
    "The cat chased the mouse. The cat caught the mouse.\n",
    "```\n",
    "\n",
    "Si se desea cambia *cat* por *dog*\n",
    "\n",
    "```text\n",
    "The dog chased the mouse. The dog caught the mouse.\n",
    "```\n",
    "\n"
   ]
  },
  {
   "cell_type": "code",
   "execution_count": 2,
   "metadata": {},
   "outputs": [
    {
     "data": {
      "text/plain": [
       "'The dog chased the mouse. The dog caught the mouse.'"
      ]
     },
     "execution_count": 2,
     "metadata": {},
     "output_type": "execute_result"
    }
   ],
   "source": [
    "import re\n",
    "text = \"The cat chased the mouse. The cat caught the mouse.\"\n",
    "\n",
    "new_text = text.replace('cat', 'dog')\n",
    "new_text"
   ]
  },
  {
   "cell_type": "markdown",
   "metadata": {},
   "source": [
    "Qué pasa si aplicamos `replace` a una sentencia más compleja:"
   ]
  },
  {
   "cell_type": "code",
   "execution_count": 3,
   "metadata": {},
   "outputs": [
    {
     "data": {
      "text/plain": [
       "'The dog chased the mouse deep down into the dogacombs. The dog would reach a state of dogharsis if it were to dogch that mouse.'"
      ]
     },
     "execution_count": 3,
     "metadata": {},
     "output_type": "execute_result"
    }
   ],
   "source": [
    "text = \"The cat chased the mouse deep down into the catacombs. The cat would reach a state of catharsis if it were to catch that mouse.\"\n",
    "\n",
    "new_text = text.replace('cat', 'dog')\n",
    "new_text"
   ]
  },
  {
   "cell_type": "markdown",
   "metadata": {},
   "source": [
    "El resultado no es el esperado, por que *cat* terminan correspondiendo no solo con *cat*, si no con toda palabra con *cat* en ella, incluyendo *catharsis* y *catacombs*.\n",
    "\n",
    "Otro problema, con formatos de fechas:\n",
    "\n",
    "```text\n",
    "12/24/2012, $50.00\n",
    "12/25/2012, $50.00\n",
    "12/28/2012, $102.00\n",
    "1/2/2012, $90.00\n",
    "1/3/2012, $250.00\n",
    "1/10/2012, $150.00\n",
    "1/14/2012, $10.00\n",
    "2/1/2012, $42.00\n",
    "```\n",
    "\n",
    "Considerar que la última fecha debe ser: *2/1/2013*. Reemplazar 2012 por 2013 no funcionaría por que se necesita cambiar solo el año que sigue después de enero.\n",
    "\n",
    "Las expresiones regulares nos permiten trabajar con patrones, por lo que no estamos limitados solo a buscar correspondencias con *cat*, se puede buscar patrones que correspondan con:\n",
    "\n",
    "- *cat* cuando esta al principio de la palabra\n",
    "- *cat* cuando esta al final de la palabra\n",
    "- *cat* cuando es una sola palabra\n",
    "- *cat* cuando aparezca más de tres veces en una sola sentencia.\n",
    "\n",
    "> En el primer ejemplo, se necesita encontrar *cat* como una sola palabra y no como parte de otras palabras, como *catharsis*.\n",
    "\n",
    "> En el segundo ejemplo, el número *2012* es precedido por *1/*, *uno u otros dos números, y un /*.\n",
    "\n",
    "**Con regex podemos resolver estos problemas. **\n",
    "\n",
    "El poder de  regex es encontrar si y donde los patrones ocurren. Si tuvieramos un millón de facturas y no se pueden poner en un Excel y necesitamos filtrar rápidamente las cantidades de seis cifras, o se tiene un pdf de 500 páginas y se necesita resaltar los sustantivos propios, nombres de personas y lugares. Mediante patrones tenemos la posibilidad esos patrones."
   ]
  },
  {
   "cell_type": "markdown",
   "metadata": {},
   "source": [
    "## Word bondaries\n",
    "\n"
   ]
  },
  {
   "cell_type": "code",
   "execution_count": 4,
   "metadata": {},
   "outputs": [
    {
     "data": {
      "text/plain": [
       "\"hello world, it's hellop to have big thelloghs\""
      ]
     },
     "execution_count": 4,
     "metadata": {},
     "output_type": "execute_result"
    }
   ],
   "source": [
    "message = \"hi world, it's hip to have big thighs\"\n",
    "\n",
    "new_message = message.replace('hi', 'hello')\n",
    "new_message"
   ]
  },
  {
   "cell_type": "markdown",
   "metadata": {},
   "source": [
    "El reemplazo literal de *hi* no funciona, por qué no queremos reemplazar *hi*, queremos reemplzar *hi* cuando se encuentra sola la palabra, no como parte de otra palabra, como es el caso de *thighs*.\n",
    "\n",
    "El *word bondarie* o limite de palabra se refiere a tanto el principio y final de una palabra. Una palabra es una secuencia de uno o más caracteres alfanuméricos, incluyendo de la A a la Z (minúsculas y mayúsculas), y cualquier otros digíto numérico.\n",
    "\n",
    "Por lo que un *word bondarie* o límite de palabra puede ser espacio, punto o signo de exclamación; o el principio o fin de una linea (por ejemplo, tecla de retorno).\n",
    "\n",
    "Por lo tanto `dog`, `a`, `37signal`, y `_` son todas palabras. La frase `upside-down` en realidad consiste en dos palabras, como el guión no es un límite palabra (termina la palabra `upside` y procede a la palabra `down`). La sintaxis de regex para coincidir con un límite de palabra es `\\b` (El uso de minúsculas o mayúsculas importa, no es lo mismo `\\b` que `\\B`).\n",
    "\n"
   ]
  },
  {
   "cell_type": "code",
   "execution_count": 8,
   "metadata": {},
   "outputs": [
    {
     "data": {
      "text/plain": [
       "\"hello world, it's hellop to have big thighs\""
      ]
     },
     "execution_count": 8,
     "metadata": {},
     "output_type": "execute_result"
    }
   ],
   "source": [
    "message = \"hi world, it's hip to have big thighs\"\n",
    "\n",
    "re.sub(r'\\bhi', 'hello', message)"
   ]
  },
  {
   "cell_type": "code",
   "execution_count": 9,
   "metadata": {},
   "outputs": [
    {
     "data": {
      "text/plain": [
       "\"hello world, it's hip to have big thighs\""
      ]
     },
     "execution_count": 9,
     "metadata": {},
     "output_type": "execute_result"
    }
   ],
   "source": [
    "message = \"hi world, it's hip to have big thighs\"\n",
    "\n",
    "re.sub(r'\\bhi\\b', 'hello', message)"
   ]
  },
  {
   "cell_type": "markdown",
   "metadata": {},
   "source": [
    "## Escape `\\`\n",
    "\n",
    "En el ejemplo de `\\b` no es literalmente la `b` si no es tipo especial de símbolo. El uso de `\\` puede ser utilizado como símbolo de escape."
   ]
  },
  {
   "cell_type": "code",
   "execution_count": 10,
   "metadata": {},
   "outputs": [
    {
     "data": {
      "text/plain": [
       "'The dog chased the mouse deep down into the catacombs. The dog would reach a state of catharsis if it were to catch that mouse.'"
      ]
     },
     "execution_count": 10,
     "metadata": {},
     "output_type": "execute_result"
    }
   ],
   "source": [
    "text = \"The cat chased the mouse deep down into the catacombs. The cat would reach a state of catharsis if it were to catch that mouse.\"\n",
    "\n",
    "re.sub(r'\\bcat\\b', 'dog', text)"
   ]
  }
 ],
 "metadata": {
  "kernelspec": {
   "display_name": "mcd-projectsI2025a",
   "language": "python",
   "name": "python3"
  },
  "language_info": {
   "codemirror_mode": {
    "name": "ipython",
    "version": 3
   },
   "file_extension": ".py",
   "mimetype": "text/x-python",
   "name": "python",
   "nbconvert_exporter": "python",
   "pygments_lexer": "ipython3",
   "version": "3.13.0"
  }
 },
 "nbformat": 4,
 "nbformat_minor": 2
}
