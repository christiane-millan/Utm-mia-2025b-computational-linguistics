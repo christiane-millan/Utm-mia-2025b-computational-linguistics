{
 "cells": [
  {
   "cell_type": "markdown",
   "metadata": {},
   "source": [
    "# Ejercicio. Regex\n",
    "\n",
    "__Objetivo__\n",
    "\n",
    "- Practicar expresiones regulares con un conjunto de datos real\n",
    "___\n",
    "\n",
    "__Desarrollo__\n",
    "\n",
    "Vamos a practicar expresiones regulares utilizando un conjunto de datos llamado `'amazon_fine_food_reviews-clean.csv'`. Este conjunto de datos es en realidad un subconjunto de un conjunto más grande que proviene de [esta fuente](https://www.kaggle.com/snap/amazon-fine-food-reviews). Contiene evaluaciones de muchos diversos productos realizadas por usuarios de Amazon. La columna `'text'` contiene el texto de la evaluación, y ésa es la columna que nos interesa.\n",
    "\n",
    "Vamos a practicar expresiones regulares con esa columna. Con cada búsqueda que realices vas a obtener un nuevo subconjunto de datos de un tamaño específico. Al terminar tus búsquedas compara el tamaño de tus subconjuntos de datos con los de tus compañeros, para checar que tus respuestas fueron correctas.\n",
    "\n",
    "Obtener subconjuntos de datos que tengan estas características:\n",
    "\n",
    "1. Todas las evaluaciones que contengan la palabra 'food' (en minúsculas).\n",
    "2. Todas las evaluaciones que contengan algún número de dos digitos.\n",
    "3. Todas las evaluaciones que contengan algún porcentaje (uno o más digitos seguidos de un signo de porcentaje).\n",
    "4. Todas las evaluaciones que comiencen con la palabra 'Dog' o 'dog'.\n",
    "5. Todas las evaluaciones que terminen con el fragmento 'awesome.' (fíjate que hay específicamente un punto después de la palabra 'awesome').\n",
    "6. Todas las evaluaciones que contengan las palabras 'horrible' o 'terrible'.\n",
    "7. Todas las evaluaciones que contengan solamente letras minúsculas.\n",
    "\n",
    "Después de realizar estas exploraciones, limpia tu conjunto de datos para remover lo siguiente de todos tus textos:\n",
    "\n",
    "1. Cualquier forma parecida a la siguiente: `<br>` o `<br/>` (revisa variaciones de estos tags, con espacios intermedios, por ejemplo)\n",
    "2. Signos en general\n",
    "3. Digitos\n",
    "4. Cualquier otra cosa que no te parezca relevante para nuestro análisis de lenguaje natural\n",
    "5. También convierte todas las letras en minúsculas para homogeneizar nuestro conjunto de datos.\n",
    "\n",
    "Guarda tu conjunto de datos como un archivo 'csv' (asegúrate de incluir por lo menos las columnas 'text' y 'score').\n",
    "___"
   ]
  },
  {
   "cell_type": "code",
   "execution_count": null,
   "metadata": {},
   "outputs": [],
   "source": [
    "# Resultado"
   ]
  }
 ],
 "metadata": {
  "language_info": {
   "name": "python"
  }
 },
 "nbformat": 4,
 "nbformat_minor": 2
}
