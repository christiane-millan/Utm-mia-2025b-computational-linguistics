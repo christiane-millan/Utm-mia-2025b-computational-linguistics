{
 "cells": [
  {
   "cell_type": "markdown",
   "metadata": {},
   "source": [
    "# Ejemplo 7: NLTK Distribución de frecuencia\n",
    "\n",
    "__Objetivos__\n",
    "\n",
    "- Aprender a usar el objeto FreqDist de la librería NLTK\n",
    "\n",
    "__Desarrollo__\n",
    "Ahora vamos a explorar el objeto FreqDist que nos facilita el conteo de frecuencias de las palabras en nuestro conjunto de datos. La primera parte del procesamiento es idéntico a la vez pasada.\n",
    "\n",
    "---"
   ]
  },
  {
   "cell_type": "code",
   "execution_count": 1,
   "metadata": {},
   "outputs": [],
   "source": [
    "import pandas as pd\n",
    "import nltk\n",
    "import seaborn as sns\n",
    "import matplotlib.pyplot as plt\n",
    "import numpy as np"
   ]
  },
  {
   "cell_type": "code",
   "execution_count": 2,
   "metadata": {},
   "outputs": [
    {
     "data": {
      "text/html": [
       "<div>\n",
       "<style scoped>\n",
       "    .dataframe tbody tr th:only-of-type {\n",
       "        vertical-align: middle;\n",
       "    }\n",
       "\n",
       "    .dataframe tbody tr th {\n",
       "        vertical-align: top;\n",
       "    }\n",
       "\n",
       "    .dataframe thead th {\n",
       "        text-align: right;\n",
       "    }\n",
       "</style>\n",
       "<table border=\"1\" class=\"dataframe\">\n",
       "  <thead>\n",
       "    <tr style=\"text-align: right;\">\n",
       "      <th></th>\n",
       "      <th>amazon_product_url</th>\n",
       "      <th>author</th>\n",
       "      <th>description</th>\n",
       "      <th>publisher</th>\n",
       "      <th>title</th>\n",
       "      <th>oid</th>\n",
       "      <th>bestsellers_date.numberLong</th>\n",
       "      <th>published_date.numberLong</th>\n",
       "      <th>rank.numberInt</th>\n",
       "      <th>rank_last_week.numberInt</th>\n",
       "      <th>weeks_on_list.numberInt</th>\n",
       "      <th>price.numberDouble</th>\n",
       "    </tr>\n",
       "  </thead>\n",
       "  <tbody>\n",
       "    <tr>\n",
       "      <th>0</th>\n",
       "      <td>http://www.amazon.com/The-Host-Novel-Stephenie...</td>\n",
       "      <td>Stephenie Meyer</td>\n",
       "      <td>Aliens have taken control of the minds and bod...</td>\n",
       "      <td>Little, Brown</td>\n",
       "      <td>THE HOST</td>\n",
       "      <td>5b4aa4ead3089013507db18c</td>\n",
       "      <td>1211587200000</td>\n",
       "      <td>1212883200000</td>\n",
       "      <td>2</td>\n",
       "      <td>1</td>\n",
       "      <td>3</td>\n",
       "      <td>25.99</td>\n",
       "    </tr>\n",
       "    <tr>\n",
       "      <th>1</th>\n",
       "      <td>http://www.amazon.com/Love-Youre-With-Emily-Gi...</td>\n",
       "      <td>Emily Giffin</td>\n",
       "      <td>A woman's happy marriage is shaken when she en...</td>\n",
       "      <td>St. Martin's</td>\n",
       "      <td>LOVE THE ONE YOU'RE WITH</td>\n",
       "      <td>5b4aa4ead3089013507db18d</td>\n",
       "      <td>1211587200000</td>\n",
       "      <td>1212883200000</td>\n",
       "      <td>3</td>\n",
       "      <td>2</td>\n",
       "      <td>2</td>\n",
       "      <td>24.95</td>\n",
       "    </tr>\n",
       "    <tr>\n",
       "      <th>2</th>\n",
       "      <td>http://www.amazon.com/The-Front-Garano-Patrici...</td>\n",
       "      <td>Patricia Cornwell</td>\n",
       "      <td>A Massachusetts state investigator and his tea...</td>\n",
       "      <td>Putnam</td>\n",
       "      <td>THE FRONT</td>\n",
       "      <td>5b4aa4ead3089013507db18e</td>\n",
       "      <td>1211587200000</td>\n",
       "      <td>1212883200000</td>\n",
       "      <td>4</td>\n",
       "      <td>0</td>\n",
       "      <td>1</td>\n",
       "      <td>22.95</td>\n",
       "    </tr>\n",
       "    <tr>\n",
       "      <th>3</th>\n",
       "      <td>http://www.amazon.com/Snuff-Chuck-Palahniuk/dp...</td>\n",
       "      <td>Chuck Palahniuk</td>\n",
       "      <td>An aging porn queens aims to cap her career by...</td>\n",
       "      <td>Doubleday</td>\n",
       "      <td>SNUFF</td>\n",
       "      <td>5b4aa4ead3089013507db18f</td>\n",
       "      <td>1211587200000</td>\n",
       "      <td>1212883200000</td>\n",
       "      <td>5</td>\n",
       "      <td>0</td>\n",
       "      <td>1</td>\n",
       "      <td>24.95</td>\n",
       "    </tr>\n",
       "    <tr>\n",
       "      <th>4</th>\n",
       "      <td>http://www.amazon.com/Sundays-at-Tiffanys-Jame...</td>\n",
       "      <td>James Patterson and Gabrielle Charbonnet</td>\n",
       "      <td>A woman finds an unexpected love</td>\n",
       "      <td>Little, Brown</td>\n",
       "      <td>SUNDAYS AT TIFFANY’S</td>\n",
       "      <td>5b4aa4ead3089013507db190</td>\n",
       "      <td>1211587200000</td>\n",
       "      <td>1212883200000</td>\n",
       "      <td>6</td>\n",
       "      <td>3</td>\n",
       "      <td>4</td>\n",
       "      <td>24.99</td>\n",
       "    </tr>\n",
       "  </tbody>\n",
       "</table>\n",
       "</div>"
      ],
      "text/plain": [
       "                                  amazon_product_url  \\\n",
       "0  http://www.amazon.com/The-Host-Novel-Stephenie...   \n",
       "1  http://www.amazon.com/Love-Youre-With-Emily-Gi...   \n",
       "2  http://www.amazon.com/The-Front-Garano-Patrici...   \n",
       "3  http://www.amazon.com/Snuff-Chuck-Palahniuk/dp...   \n",
       "4  http://www.amazon.com/Sundays-at-Tiffanys-Jame...   \n",
       "\n",
       "                                     author  \\\n",
       "0                           Stephenie Meyer   \n",
       "1                              Emily Giffin   \n",
       "2                         Patricia Cornwell   \n",
       "3                           Chuck Palahniuk   \n",
       "4  James Patterson and Gabrielle Charbonnet   \n",
       "\n",
       "                                         description      publisher  \\\n",
       "0  Aliens have taken control of the minds and bod...  Little, Brown   \n",
       "1  A woman's happy marriage is shaken when she en...   St. Martin's   \n",
       "2  A Massachusetts state investigator and his tea...         Putnam   \n",
       "3  An aging porn queens aims to cap her career by...      Doubleday   \n",
       "4                   A woman finds an unexpected love  Little, Brown   \n",
       "\n",
       "                      title                       oid  \\\n",
       "0                  THE HOST  5b4aa4ead3089013507db18c   \n",
       "1  LOVE THE ONE YOU'RE WITH  5b4aa4ead3089013507db18d   \n",
       "2                 THE FRONT  5b4aa4ead3089013507db18e   \n",
       "3                     SNUFF  5b4aa4ead3089013507db18f   \n",
       "4      SUNDAYS AT TIFFANY’S  5b4aa4ead3089013507db190   \n",
       "\n",
       "   bestsellers_date.numberLong  published_date.numberLong  rank.numberInt  \\\n",
       "0                1211587200000              1212883200000               2   \n",
       "1                1211587200000              1212883200000               3   \n",
       "2                1211587200000              1212883200000               4   \n",
       "3                1211587200000              1212883200000               5   \n",
       "4                1211587200000              1212883200000               6   \n",
       "\n",
       "   rank_last_week.numberInt  weeks_on_list.numberInt  price.numberDouble  \n",
       "0                         1                        3               25.99  \n",
       "1                         2                        2               24.95  \n",
       "2                         0                        1               22.95  \n",
       "3                         0                        1               24.95  \n",
       "4                         3                        4               24.99  "
      ]
     },
     "execution_count": 2,
     "metadata": {},
     "output_type": "execute_result"
    }
   ],
   "source": [
    "df = pd.read_json('../../datasets/new_york_times_bestsellers-clean.json')\n",
    "df.head()"
   ]
  },
  {
   "cell_type": "code",
   "execution_count": 3,
   "metadata": {},
   "outputs": [
    {
     "data": {
      "text/plain": [
       "title\n",
       "10TH ANNIVERSARY            Detective Lindsay Boxer and the Women’s Murder...\n",
       "11TH HOUR                   Detective Lindsay Boxer and the Women’s Murder...\n",
       "1225 CHRISTMAS TREE LANE    Puppies and an ex-husband loom large in the la...\n",
       "1356                        In the fourth book of the Grail Quest series, ...\n",
       "1Q84                        In 1980s Tokyo, a woman who punishes perpetrat...\n",
       "                                                  ...                        \n",
       "Z                           A novel based on the lives of Zelda and F. Sco...\n",
       "ZERO DAY                       A military investigator uncovers a conspiracy.\n",
       "ZERO HISTORY                Several characters from “Spook Country” return...\n",
       "ZONE ONE                      Fighting zombies in post-apocalyptic Manhattan.\n",
       "ZOO                         A young biologist warns world leaders about th...\n",
       "Name: description, Length: 754, dtype: object"
      ]
     },
     "execution_count": 3,
     "metadata": {},
     "output_type": "execute_result"
    }
   ],
   "source": [
    "grouped_by_title = df.groupby('title')['description'].max()\n",
    "grouped_by_title"
   ]
  },
  {
   "cell_type": "code",
   "execution_count": 16,
   "metadata": {},
   "outputs": [
    {
     "data": {
      "text/plain": [
       "title\n",
       "10TH ANNIVERSARY            detective lindsay boxer and the womens murder ...\n",
       "11TH HOUR                   detective lindsay boxer and the womens murder ...\n",
       "1225 CHRISTMAS TREE LANE    puppies and an exhusband loom large in the las...\n",
       "1356                        in the fourth book of the grail quest series t...\n",
       "1Q84                        in s tokyo a woman who punishes perpetrators o...\n",
       "                                                  ...                        \n",
       "Z                           a novel based on the lives of zelda and f scot...\n",
       "ZERO DAY                        a military investigator uncovers a conspiracy\n",
       "ZERO HISTORY                several characters from spook country return t...\n",
       "ZONE ONE                        fighting zombies in postapocalyptic manhattan\n",
       "ZOO                         a young biologist warns world leaders about th...\n",
       "Name: description, Length: 754, dtype: object"
      ]
     },
     "execution_count": 16,
     "metadata": {},
     "output_type": "execute_result"
    }
   ],
   "source": [
    "grouped_by_title = grouped_by_title.str.lower()\n",
    "grouped_by_title = grouped_by_title.str.strip()\n",
    "grouped_by_title = grouped_by_title.str.replace('[^\\w\\s]', '', regex=True)\n",
    "grouped_by_title = grouped_by_title.str.replace('\\d', '', regex=True)\n",
    "grouped_by_title = grouped_by_title.str.replace('\\\\n', '', regex=True)\n",
    "grouped_by_title = grouped_by_title.dropna()\n",
    "\n",
    "grouped_by_title"
   ]
  },
  {
   "cell_type": "code",
   "execution_count": 17,
   "metadata": {},
   "outputs": [
    {
     "data": {
      "text/plain": [
       "title\n",
       "10TH ANNIVERSARY            [detective, lindsay, boxer, and, the, womens, ...\n",
       "11TH HOUR                   [detective, lindsay, boxer, and, the, womens, ...\n",
       "1225 CHRISTMAS TREE LANE    [puppies, and, an, exhusband, loom, large, in,...\n",
       "1356                        [in, the, fourth, book, of, the, grail, quest,...\n",
       "1Q84                        [in, s, tokyo, a, woman, who, punishes, perpet...\n",
       "                                                  ...                        \n",
       "Z                           [a, novel, based, on, the, lives, of, zelda, a...\n",
       "ZERO DAY                    [a, military, investigator, uncovers, a, consp...\n",
       "ZERO HISTORY                [several, characters, from, spook, country, re...\n",
       "ZONE ONE                    [fighting, zombies, in, postapocalyptic, manha...\n",
       "ZOO                         [a, young, biologist, warns, world, leaders, a...\n",
       "Name: description, Length: 754, dtype: object"
      ]
     },
     "execution_count": 17,
     "metadata": {},
     "output_type": "execute_result"
    }
   ],
   "source": [
    "# Tokenización por palabras\n",
    "tokenized = grouped_by_title.apply(nltk.word_tokenize)\n",
    "tokenized"
   ]
  },
  {
   "cell_type": "code",
   "execution_count": 18,
   "metadata": {},
   "outputs": [],
   "source": [
    "all_words = tokenized.sum()"
   ]
  },
  {
   "cell_type": "markdown",
   "metadata": {},
   "source": [
    "`nltk.FreqDist()`: se utiliza una distribución de frecuencia para registrar la frecuencia de cada tipo de palabra en un documento.\n",
    "\n",
    "[Referencia](https://tedboy.github.io/nlps/generated/generated/nltk.FreqDist.html?highlight=freqdist)"
   ]
  },
  {
   "cell_type": "code",
   "execution_count": 19,
   "metadata": {},
   "outputs": [
    {
     "name": "stdout",
     "output_type": "stream",
     "text": [
      "<FreqDist with 3161 samples and 12569 outcomes>\n"
     ]
    }
   ],
   "source": [
    "# Utilizar FreqDist para analizar la distribución de frecuencia de las palabras\n",
    "freq_dist = nltk.FreqDist(all_words)\n",
    "print(freq_dist)"
   ]
  },
  {
   "cell_type": "code",
   "execution_count": 20,
   "metadata": {},
   "outputs": [
    {
     "data": {
      "text/plain": [
       "[('a', 917),\n",
       " ('the', 778),\n",
       " ('of', 417),\n",
       " ('in', 364),\n",
       " ('to', 283),\n",
       " ('and', 280),\n",
       " ('an', 149),\n",
       " ('her', 137),\n",
       " ('is', 127),\n",
       " ('his', 123),\n",
       " ('who', 107),\n",
       " ('for', 102),\n",
       " ('with', 93),\n",
       " ('on', 71),\n",
       " ('from', 70),\n",
       " ('by', 68),\n",
       " ('series', 61),\n",
       " ('new', 61),\n",
       " ('woman', 60),\n",
       " ('that', 60),\n",
       " ('book', 57),\n",
       " ('detective', 52),\n",
       " ('murder', 51),\n",
       " ('novel', 49),\n",
       " ('when', 46),\n",
       " ('as', 42),\n",
       " ('killer', 41),\n",
       " ('at', 40),\n",
       " ('must', 39),\n",
       " ('has', 38),\n",
       " ('investigates', 38),\n",
       " ('young', 35),\n",
       " ('man', 35),\n",
       " ('life', 32),\n",
       " ('former', 32),\n",
       " ('she', 31),\n",
       " ('about', 30),\n",
       " ('their', 29),\n",
       " ('are', 28),\n",
       " ('war', 27),\n",
       " ('after', 27),\n",
       " ('family', 26),\n",
       " ('york', 26),\n",
       " ('two', 25),\n",
       " ('death', 25),\n",
       " ('world', 24),\n",
       " ('this', 24),\n",
       " ('agent', 24),\n",
       " ('into', 23),\n",
       " ('he', 23)]"
      ]
     },
     "execution_count": 20,
     "metadata": {},
     "output_type": "execute_result"
    }
   ],
   "source": [
    "freq_dist.most_common(50)"
   ]
  },
  {
   "cell_type": "code",
   "execution_count": null,
   "metadata": {},
   "outputs": [],
   "source": []
  },
  {
   "cell_type": "markdown",
   "metadata": {},
   "source": [
    "Eliminar palabras vacías\n",
    "\n",
    "````\n",
    "nltk.download('stopwords')\n",
    "````"
   ]
  },
  {
   "cell_type": "code",
   "execution_count": 21,
   "metadata": {},
   "outputs": [],
   "source": [
    "from nltk.corpus import stopwords\n",
    "\n",
    "english_stop_words = stopwords.words('english')\n",
    "all_words_except_stop_words = [word for word in all_words if word not in english_stop_words]\n",
    "freq_dist_no_stop_words = nltk.FreqDist(all_words_except_stop_words)"
   ]
  },
  {
   "cell_type": "code",
   "execution_count": 22,
   "metadata": {},
   "outputs": [
    {
     "data": {
      "text/plain": [
       "[('series', 61),\n",
       " ('new', 61),\n",
       " ('woman', 60),\n",
       " ('book', 57),\n",
       " ('detective', 52),\n",
       " ('murder', 51),\n",
       " ('novel', 49),\n",
       " ('killer', 41),\n",
       " ('must', 39),\n",
       " ('investigates', 38),\n",
       " ('young', 35),\n",
       " ('man', 35),\n",
       " ('life', 32),\n",
       " ('former', 32),\n",
       " ('war', 27),\n",
       " ('family', 26),\n",
       " ('york', 26),\n",
       " ('two', 25),\n",
       " ('death', 25),\n",
       " ('world', 24),\n",
       " ('agent', 24),\n",
       " ('cia', 22),\n",
       " ('love', 22),\n",
       " ('secret', 21),\n",
       " ('discovers', 21),\n",
       " ('lawyer', 20),\n",
       " ('murdered', 20),\n",
       " ('finds', 20),\n",
       " ('eve', 19),\n",
       " ('th', 19),\n",
       " ('mother', 19),\n",
       " ('case', 19),\n",
       " ('women', 19),\n",
       " ('wife', 19),\n",
       " ('serial', 18),\n",
       " ('first', 18),\n",
       " ('secrets', 18),\n",
       " ('pursues', 18),\n",
       " ('investigator', 18),\n",
       " ('operative', 18),\n",
       " ('missing', 17),\n",
       " ('search', 17),\n",
       " ('searches', 17),\n",
       " ('help', 17),\n",
       " ('fbi', 17),\n",
       " ('stone', 17),\n",
       " ('years', 17),\n",
       " ('girl', 17),\n",
       " ('investigate', 16),\n",
       " ('one', 16)]"
      ]
     },
     "execution_count": 22,
     "metadata": {},
     "output_type": "execute_result"
    }
   ],
   "source": [
    "freq_dist_no_stop_words.most_common(50)"
   ]
  },
  {
   "cell_type": "code",
   "execution_count": 23,
   "metadata": {},
   "outputs": [
    {
     "name": "stdout",
     "output_type": "stream",
     "text": [
      "0.786%\n"
     ]
    }
   ],
   "source": [
    "# Conteo de una palabra y porcentaje de aparición\n",
    "print(f'{(100 * freq_dist_no_stop_words[\"woman\"] / len(all_words_except_stop_words)):.3f}%')"
   ]
  },
  {
   "cell_type": "code",
   "execution_count": 24,
   "metadata": {},
   "outputs": [
    {
     "data": {
      "image/png": "[encoded data removed]",
      "text/plain": [
       "<Figure size 640x480 with 1 Axes>"
      ]
     },
     "metadata": {},
     "output_type": "display_data"
    }
   ],
   "source": [
    "# Veamos qué proporción del text está siendo ocupada por las 50 palabras más comunes\n",
    "freq_dist_no_stop_words.plot(50, cumulative=True);"
   ]
  },
  {
   "cell_type": "code",
   "execution_count": 25,
   "metadata": {},
   "outputs": [
    {
     "data": {
      "text/plain": [
       "['puppies',\n",
       " 'loom',\n",
       " 'last',\n",
       " 'grail',\n",
       " 'poitiers',\n",
       " 'tokyo',\n",
       " 'punishes',\n",
       " 'domestic',\n",
       " 'aspiring',\n",
       " 'resent',\n",
       " 'draining',\n",
       " 'weakening',\n",
       " 'economy',\n",
       " 'earthquake',\n",
       " 'tests',\n",
       " 'countrys',\n",
       " 'jewish',\n",
       " 'mishandling',\n",
       " 'pregnant',\n",
       " 'shows']"
      ]
     },
     "execution_count": 25,
     "metadata": {},
     "output_type": "execute_result"
    }
   ],
   "source": [
    "# Palabras que sólo aparecen una sola vez\n",
    "freq_dist_no_stop_words.hapaxes()[:20]"
   ]
  },
  {
   "cell_type": "code",
   "execution_count": 26,
   "metadata": {},
   "outputs": [
    {
     "data": {
      "text/plain": [
       "0       understanding\n",
       "1            civilian\n",
       "2           screwball\n",
       "3           robberies\n",
       "4          government\n",
       "            ...      \n",
       "3060        intersect\n",
       "3061          changes\n",
       "3062           seeker\n",
       "3063           heroes\n",
       "3064             life\n",
       "Length: 3065, dtype: object"
      ]
     },
     "execution_count": 26,
     "metadata": {},
     "output_type": "execute_result"
    }
   ],
   "source": [
    "# Palabras largas\n",
    "\n",
    "unique = set(all_words_except_stop_words)\n",
    "unique_series = pd.Series(list(unique))\n",
    "\n",
    "unique_series"
   ]
  },
  {
   "cell_type": "code",
   "execution_count": 27,
   "metadata": {},
   "outputs": [
    {
     "data": {
      "text/plain": [
       "285      multigenerational\n",
       "346      suicidebyaccident\n",
       "771       counterterrorism\n",
       "1212    turnofthethcentury\n",
       "1273      mountainclimbing\n",
       "1415      singersongwriter\n",
       "1862      publicityseeking\n",
       "2479      dissatisfactions\n",
       "2787      postthanksgiving\n",
       "3050      autobiographical\n",
       "dtype: object"
      ]
     },
     "execution_count": 27,
     "metadata": {},
     "output_type": "execute_result"
    }
   ],
   "source": [
    "unique_series[unique_series.str.len() > 15]"
   ]
  },
  {
   "cell_type": "code",
   "execution_count": 29,
   "metadata": {},
   "outputs": [
    {
     "data": {
      "text/plain": [
       "28           terrorist\n",
       "31           manhattan\n",
       "230          daughters\n",
       "275        investigate\n",
       "367           searches\n",
       "379         washington\n",
       "390           american\n",
       "472           assassin\n",
       "641          character\n",
       "831         characters\n",
       "883         barrington\n",
       "1084         discovers\n",
       "1175     disappearance\n",
       "1531        paranormal\n",
       "1626          murdered\n",
       "1661          together\n",
       "1732         dangerous\n",
       "1852          forensic\n",
       "1904    pseudonymously\n",
       "1953     investigation\n",
       "2056          reporter\n",
       "2132      investigates\n",
       "2135      investigator\n",
       "2168          carolina\n",
       "2495         operative\n",
       "2578          daughter\n",
       "2686          involved\n",
       "2822          intrigue\n",
       "2925        mysterious\n",
       "3027         detective\n",
       "dtype: object"
      ]
     },
     "execution_count": 29,
     "metadata": {},
     "output_type": "execute_result"
    }
   ],
   "source": [
    "# Palabras largas que son frecuentes\n",
    "larger_than_10 = unique_series.str.len() > 10\n",
    "is_frequent = unique_series.apply(lambda x: freq_dist_no_stop_words[x] > 7)\n",
    "\n",
    "unique_series[larger_than_10 & is_frequent]"
   ]
  },
  {
   "cell_type": "code",
   "execution_count": 30,
   "metadata": {},
   "outputs": [],
   "source": [
    "# Podemos contar otras cosas, como la frecuencia de longitudes de nuestras palabras\n",
    "freq_dist_lengths = nltk.FreqDist([len(w) for w in all_words_except_stop_words])"
   ]
  },
  {
   "cell_type": "code",
   "execution_count": 31,
   "metadata": {},
   "outputs": [
    {
     "data": {
      "text/plain": [
       "[(5, 1382),\n",
       " (6, 1364),\n",
       " (7, 1212),\n",
       " (4, 1051),\n",
       " (8, 707),\n",
       " (9, 586),\n",
       " (3, 471),\n",
       " (10, 354),\n",
       " (11, 164),\n",
       " (12, 157),\n",
       " (2, 60),\n",
       " (13, 60),\n",
       " (14, 30),\n",
       " (16, 11),\n",
       " (15, 11),\n",
       " (1, 8),\n",
       " (17, 2),\n",
       " (18, 1)]"
      ]
     },
     "execution_count": 31,
     "metadata": {},
     "output_type": "execute_result"
    }
   ],
   "source": [
    "freq_dist_lengths.most_common()"
   ]
  },
  {
   "cell_type": "code",
   "execution_count": 32,
   "metadata": {},
   "outputs": [
    {
     "data": {
      "text/plain": [
       "5"
      ]
     },
     "execution_count": 32,
     "metadata": {},
     "output_type": "execute_result"
    }
   ],
   "source": [
    "freq_dist_lengths.max()"
   ]
  },
  {
   "cell_type": "code",
   "execution_count": 33,
   "metadata": {},
   "outputs": [
    {
     "data": {
      "text/plain": [
       "1382"
      ]
     },
     "execution_count": 33,
     "metadata": {},
     "output_type": "execute_result"
    }
   ],
   "source": [
    "freq_dist_lengths[5]"
   ]
  },
  {
   "cell_type": "code",
   "execution_count": 34,
   "metadata": {},
   "outputs": [
    {
     "data": {
      "text/plain": [
       "0.18110339405058315"
      ]
     },
     "execution_count": 34,
     "metadata": {},
     "output_type": "execute_result"
    }
   ],
   "source": [
    "# qué proporción del total de palabras tiene longitud de 5\n",
    "freq_dist_lengths.freq(5)"
   ]
  }
 ],
 "metadata": {
  "kernelspec": {
   "display_name": "dt4re2024A",
   "language": "python",
   "name": "python3"
  },
  "language_info": {
   "codemirror_mode": {
    "name": "ipython",
    "version": 3
   },
   "file_extension": ".py",
   "mimetype": "text/x-python",
   "name": "python",
   "nbconvert_exporter": "python",
   "pygments_lexer": "ipython3",
   "version": "3.11.5"
  }
 },
 "nbformat": 4,
 "nbformat_minor": 2
}
