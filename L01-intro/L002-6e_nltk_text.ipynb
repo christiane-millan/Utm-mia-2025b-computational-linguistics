{
 "cells": [
  {
   "cell_type": "markdown",
   "metadata": {},
   "source": [
    "# Ejercicio: NLTK Text\n",
    "\n",
    "__Objetivo__\n",
    "\n",
    "- Practicar el uso del objeto Text de la librería NLTK\n",
    "\n",
    "__Desarrollo__\n",
    "\n",
    "Utilizar el conjunto de datos que resultante del [ejercicio](../../L001-Intro-TA4RE/L001-6-regex/code/L001-6-1e-regex.ipynb) (este conjunto de datos debería de contener todas las evaluaciones registradas en el dataset `'amazon_fine_food_reviews-clean.csv'` limpias y listas para realizar un análisis).\n",
    "\n",
    "Realizar lo siguiente:\n",
    "\n",
    "1. Aplica el método 'word_tokenize' de nltk para separar todas las evaluaciones por palabras.\n",
    "2. Genera una sola lista con todas las listas que obtenida en el paso 1, para crear un objeto `nltk.Text`.\n",
    "3. Buscar las concordancias de las palabras 'boy' y 'girl'.\n",
    "4. Buscar las palabras que tengan contextos similares a las palabras 'boy' y 'girl'.\n",
    "5. Buscar los contextos que tengan en común las palabras 'boy' y 'girl'.\n",
    "6. Cuantificar la riqueza léxica de tu conjunto de datos"
   ]
  },
  {
   "cell_type": "code",
   "execution_count": null,
   "metadata": {},
   "outputs": [],
   "source": [
    "# implementación"
   ]
  }
 ],
 "metadata": {
  "language_info": {
   "name": "python"
  }
 },
 "nbformat": 4,
 "nbformat_minor": 2
}
